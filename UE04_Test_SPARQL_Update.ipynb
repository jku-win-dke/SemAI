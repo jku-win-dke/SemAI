{
  "nbformat": 4,
  "nbformat_minor": 0,
  "metadata": {
    "colab": {
      "provenance": [],
      "collapsed_sections": [
        "p4n6njYMwKcD",
        "kp8I1_BVpbvC",
        "p_J25z9ovL4S",
        "Rd_vdu0WuRCN"
      ],
      "include_colab_link": true
    },
    "kernelspec": {
      "name": "python3",
      "display_name": "Python 3"
    },
    "language_info": {
      "name": "python"
    }
  },
  "cells": [
    {
      "cell_type": "markdown",
      "metadata": {
        "id": "view-in-github",
        "colab_type": "text"
      },
      "source": [
        "<a href=\"https://colab.research.google.com/github/jku-win-dke/SemAI/blob/main/UE04_Test_SPARQL_Update.ipynb\" target=\"_parent\"><img src=\"https://colab.research.google.com/assets/colab-badge.svg\" alt=\"Open In Colab\"/></a>"
      ]
    },
    {
      "cell_type": "markdown",
      "source": [
        "# UE04_Test: SPARQL Update"
      ],
      "metadata": {
        "id": "HnpijZy2D1Hd"
      }
    },
    {
      "cell_type": "markdown",
      "source": [
        "## Preparations"
      ],
      "metadata": {
        "id": "p4n6njYMwKcD"
      }
    },
    {
      "cell_type": "code",
      "source": [
        "# Install required packages\n",
        "!pip install -q rdflib     # comment to avoid re-install with every re-run"
      ],
      "metadata": {
        "id": "pQNOReanEJaW",
        "colab": {
          "base_uri": "https://localhost:8080/"
        },
        "outputId": "16cc54c5-77a4-42d9-a1ee-bd1fecff0766"
      },
      "execution_count": null,
      "outputs": [
        {
          "output_type": "stream",
          "name": "stdout",
          "text": [
            "\u001b[2K     \u001b[90m━━━━━━━━━━━━━━━━━━━━━━━━━━━━━━━━━━━━━━━\u001b[0m \u001b[32m528.1/528.1 kB\u001b[0m \u001b[31m7.9 MB/s\u001b[0m eta \u001b[36m0:00:00\u001b[0m\n",
            "\u001b[2K     \u001b[90m━━━━━━━━━━━━━━━━━━━━━━━━━━━━━━━━━━━━━━━━\u001b[0m \u001b[32m41.7/41.7 kB\u001b[0m \u001b[31m4.0 MB/s\u001b[0m eta \u001b[36m0:00:00\u001b[0m\n",
            "\u001b[?25h"
          ]
        }
      ]
    },
    {
      "cell_type": "markdown",
      "source": [
        "### Imports and Functions\n",
        "\n",
        "We are re-using the sparql_select function."
      ],
      "metadata": {
        "id": "wpAd5jCpvMI5"
      }
    },
    {
      "cell_type": "code",
      "execution_count": null,
      "metadata": {
        "id": "ZzA1lueCDfnu"
      },
      "outputs": [],
      "source": [
        "# Imports\n",
        "import pandas as pd\n",
        "import rdflib\n",
        "from rdflib import Graph, Literal, RDF, URIRef, BNode, Namespace\n",
        "\n",
        "\n",
        "# Convenient Functions\n",
        "def sparql_select(graph,query,use_prefixes=True):\n",
        "  results = graph.query(query)          # execute the query against the graph, resulting in a rdflib.plugins.sparql.processor.SPARQLResult\n",
        "  rows = []                             # a list of dictionaries, as intermediate format to construct the pandas DataFrame\n",
        "  for result in results:                # iterate over the result set of the query, a result is an instance of rdflib.query.ResultRow\n",
        "    row = {}                            #     create a dictionary to hold a single row of the result\n",
        "    for var in results.vars:            #     iterate over the variables of the SPARQLResult to add a dictionary entry for each variable\n",
        "      if (isinstance(result[var],URIRef) and use_prefixes):\n",
        "        row[var] = result[var].n3(graph.namespace_manager)   # use namespace prefixes to shorten URIs\n",
        "      else:\n",
        "        row[var] = result[var]\n",
        "    rows.append(row)                    #     add the dictionary (row) to the list\n",
        "  return pd.DataFrame(rows,columns=results.vars)\n",
        "                                        # return a pandas DataFrame constructed from the list of dictionaries, with the variables from the result set as columns\n"
      ]
    },
    {
      "cell_type": "code",
      "source": [
        "g = rdflib.Graph().parse(format=\"turtle\",data=\"\"\"\n",
        "  @prefix : <http://example.org/> .\"\"\")\n",
        "\n",
        "g.update(\"\"\"\n",
        "INSERT DATA {\n",
        "  :jane  a :Human ;\n",
        "    :friend :mary, :bob, :goofy ;\n",
        "    foaf:knows :jane .\n",
        "  :mary a foaf:Person .\n",
        "  :bob a :Human .\n",
        "  :goofy a :Dog .\n",
        "}\n",
        "\"\"\")"
      ],
      "metadata": {
        "id": "3J_9_qm1pBL2"
      },
      "execution_count": null,
      "outputs": []
    },
    {
      "cell_type": "markdown",
      "source": [
        "# Group **A**"
      ],
      "metadata": {
        "id": "kp8I1_BVpbvC"
      }
    },
    {
      "cell_type": "markdown",
      "source": [
        "## Data"
      ],
      "metadata": {
        "id": "5itwx5UVvfT3"
      }
    },
    {
      "cell_type": "code",
      "source": [
        "print(g.serialize(format=\"turtle\"))"
      ],
      "metadata": {
        "colab": {
          "base_uri": "https://localhost:8080/"
        },
        "id": "GwkLcihFEMsN",
        "outputId": "c6a02f73-4a49-43e2-9086-8bc91837118f"
      },
      "execution_count": null,
      "outputs": [
        {
          "output_type": "stream",
          "name": "stdout",
          "text": [
            "@prefix : <http://example.org/> .\n",
            "@prefix foaf: <http://xmlns.com/foaf/0.1/> .\n",
            "\n",
            ":bob a :Human .\n",
            "\n",
            ":goofy a :Dog .\n",
            "\n",
            ":jane a :Human ;\n",
            "    :friend :bob,\n",
            "        :goofy,\n",
            "        :mary ;\n",
            "    foaf:knows :jane .\n",
            "\n",
            ":mary a foaf:Person .\n",
            "\n",
            "\n"
          ]
        }
      ]
    },
    {
      "cell_type": "markdown",
      "source": [
        "## Task\n",
        "\n",
        "Write a SPARQL Update request so that all humans are not classified as `:Human` but as `foaf:Person`."
      ],
      "metadata": {
        "id": "8ATb2a2CsPrM"
      }
    },
    {
      "cell_type": "markdown",
      "source": [
        "## Solution"
      ],
      "metadata": {
        "id": "p_J25z9ovL4S"
      }
    },
    {
      "cell_type": "code",
      "source": [
        "g.update(\"\"\"\n",
        "DELETE { ?p a :Human. }\n",
        "INSERT { ?p a foaf:Person. }\n",
        "WHERE { ?p a :Human. }\n",
        "\"\"\")"
      ],
      "metadata": {
        "id": "V7CnFtIyqh2k"
      },
      "execution_count": null,
      "outputs": []
    },
    {
      "cell_type": "markdown",
      "source": [
        "## Result"
      ],
      "metadata": {
        "id": "RpR67xyoql5k"
      }
    },
    {
      "cell_type": "code",
      "source": [
        "print(g.serialize(format=\"turtle\"))"
      ],
      "metadata": {
        "id": "EdHr7wxXGuav",
        "colab": {
          "base_uri": "https://localhost:8080/"
        },
        "outputId": "f633d70d-a3aa-45ed-b26f-0761d044dd82"
      },
      "execution_count": null,
      "outputs": [
        {
          "output_type": "stream",
          "name": "stdout",
          "text": [
            "@prefix : <http://example.org/> .\n",
            "@prefix foaf: <http://xmlns.com/foaf/0.1/> .\n",
            "\n",
            ":bob a foaf:Person .\n",
            "\n",
            ":goofy a :Dog .\n",
            "\n",
            ":jane a foaf:Person ;\n",
            "    :friend :bob,\n",
            "        :goofy,\n",
            "        :mary ;\n",
            "    foaf:knows :jane .\n",
            "\n",
            ":mary a foaf:Person .\n",
            "\n",
            "\n"
          ]
        }
      ]
    },
    {
      "cell_type": "markdown",
      "source": [
        "# Group **B**"
      ],
      "metadata": {
        "id": "Kryljm0QsHRD"
      }
    },
    {
      "cell_type": "markdown",
      "source": [
        "## Data"
      ],
      "metadata": {
        "id": "yKNtSpdLvGip"
      }
    },
    {
      "cell_type": "code",
      "source": [
        "print(g.serialize(format=\"turtle\"))"
      ],
      "metadata": {
        "colab": {
          "base_uri": "https://localhost:8080/"
        },
        "id": "ftLWuVlSurNB",
        "outputId": "9294090f-7042-45ea-9681-533cd936c0ad"
      },
      "execution_count": null,
      "outputs": [
        {
          "output_type": "stream",
          "name": "stdout",
          "text": [
            "@prefix : <http://example.org/> .\n",
            "@prefix foaf: <http://xmlns.com/foaf/0.1/> .\n",
            "\n",
            ":bob a foaf:Person .\n",
            "\n",
            ":goofy a :Dog .\n",
            "\n",
            ":jane a foaf:Person ;\n",
            "    :friend :bob,\n",
            "        :goofy,\n",
            "        :mary ;\n",
            "    foaf:knows :jane .\n",
            "\n",
            ":mary a foaf:Person .\n",
            "\n",
            "\n"
          ]
        }
      ]
    },
    {
      "cell_type": "markdown",
      "source": [
        "## Task\n",
        "\n",
        "Write a SPARQL Update Request to replace all `:friend` statements with a  `foaf:knows` statement."
      ],
      "metadata": {
        "id": "QPDiGgHuspii"
      }
    },
    {
      "cell_type": "markdown",
      "source": [],
      "metadata": {
        "id": "D9u9sWL46iYt"
      }
    },
    {
      "cell_type": "markdown",
      "source": [
        "## Solution"
      ],
      "metadata": {
        "id": "Rd_vdu0WuRCN"
      }
    },
    {
      "cell_type": "code",
      "source": [
        "g.update(\"\"\"\n",
        "DELETE { ?x :friend ?y . }\n",
        "INSERT { ?x foaf:knows ?y . }\n",
        "WHERE { ?x :friend ?y . }\n",
        "\"\"\")"
      ],
      "metadata": {
        "id": "6KuhJKpkuFIY"
      },
      "execution_count": null,
      "outputs": []
    },
    {
      "cell_type": "markdown",
      "source": [
        "## Result"
      ],
      "metadata": {
        "id": "k9wfgYZ3uzXg"
      }
    },
    {
      "cell_type": "code",
      "source": [
        "print(g.serialize(format=\"turtle\"))"
      ],
      "metadata": {
        "colab": {
          "base_uri": "https://localhost:8080/"
        },
        "id": "K06LQ539uUGk",
        "outputId": "fabde651-e266-4272-ac02-81b43849c687"
      },
      "execution_count": null,
      "outputs": [
        {
          "output_type": "stream",
          "name": "stdout",
          "text": [
            "@prefix : <http://example.org/> .\n",
            "@prefix foaf: <http://xmlns.com/foaf/0.1/> .\n",
            "\n",
            ":bob a foaf:Person .\n",
            "\n",
            ":goofy a :Dog .\n",
            "\n",
            ":jane a foaf:Person ;\n",
            "    foaf:knows :bob,\n",
            "        :goofy,\n",
            "        :jane,\n",
            "        :mary .\n",
            "\n",
            ":mary a foaf:Person .\n",
            "\n",
            "\n"
          ]
        }
      ]
    }
  ]
}