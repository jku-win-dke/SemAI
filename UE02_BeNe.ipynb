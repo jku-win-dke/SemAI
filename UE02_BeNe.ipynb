{
  "cells": [
    {
      "cell_type": "markdown",
      "metadata": {
        "id": "BS4vo37YWsYf"
      },
      "source": [
        "# UE02 - RDF and RDF Schema\n",
        "\n",
        "Before you start with this notebook, complete the eight tasks in the `1. RDF` sheet of `SemAI.jar`. You will then make use of your solutions in this notebook. \n",
        "\n",
        "## Task 0: Preparation\n",
        "\n",
        "Preparation (Installs and Imports). \n",
        "\n",
        "\n"
      ]
    },
    {
      "cell_type": "code",
      "source": [
        "\n",
        "\n"
      ],
      "metadata": {
        "id": "UNTabDt9SLuw"
      },
      "execution_count": null,
      "outputs": []
    },
    {
      "cell_type": "markdown",
      "source": [
        "## Task 1:  Improve interactive RDF graph visualization (1 pt)\n",
        "\n",
        "Improve function `visualize_graph_pyvis` (from `V01_rdf.ipynb`) as follows:\n",
        "- an optional `base` parameter\n",
        "- abbreviate the labels of nodes and edges in the same way as in `visualize_graph`. \n",
        "- make sure that blank node IDs are not shown in the visualization. \n",
        "\n",
        "Optional features: \n",
        "- use different graphical forms for literals and URIs\n",
        "- (add further improvements as you like)\n",
        "\n",
        "Test the function with `rdf_str` and with your solution to task `0. Intro` in the `1. RDF` sheet in `SemAI.jar`."
      ],
      "metadata": {
        "id": "vc2iBjkcQQvD"
      }
    },
    {
      "cell_type": "code",
      "source": [
        "rdf_str = \"\"\"BASE   <http://example.org/>\n",
        "PREFIX foaf: <http://xmlns.com/foaf/0.1/>\n",
        "PREFIX xsd: <http://www.w3.org/2001/XMLSchema#>\n",
        "PREFIX schema: <http://schema.org/>\n",
        "PREFIX dcterms: <http://purl.org/dc/terms/>\n",
        "PREFIX wd: <http://www.wikidata.org/entity/>\n",
        " \n",
        "<bob#me>\n",
        "   a foaf:Person ;\n",
        "   foaf:knows <alice#me> ;\n",
        "   schema:birthDate \"1990-07-04\"^^xsd:date ;\n",
        "   foaf:topic_interest wd:Q12418 .\n",
        "   \n",
        "wd:Q12418\n",
        "  dcterms:title \"Mona Lisa\" ;\n",
        "  dcterms:creator <http://dbpedia.org/resource/Leonardo_da_Vinci> .\n",
        "\n",
        "<http://data.europeana.eu/item/04802/243FA8618938F4117025F17A8B813C5F9AA4D619>\n",
        "  dcterms:subject wd:Q12418 .\n",
        "\"\"\"\n",
        "\n",
        "\n"
      ],
      "metadata": {
        "id": "Y3-jE3kNQAY4"
      },
      "execution_count": 1,
      "outputs": []
    },
    {
      "cell_type": "markdown",
      "source": [
        "## Task 2:  Print RDF graph as HTML table (1 pt)\n",
        "\n",
        "Implement a function `rdf2htmltable(g)` that \n",
        "- takes as parameter an rdflib.Graph \n",
        "- generates and displays an HTML table representing that graph with\n",
        "  - one line per RDF statement \n",
        "  - three columns (subject, predicate, object) \n",
        "  - URIs should be shown in abbreviated form and be represented as links (`href=<full URI>`)\n",
        "\n",
        "Test the function with `rdf_str` and with your solution to task `0. Intro` in the `1. RDF` sheet in `SemAI.jar`."
      ],
      "metadata": {
        "id": "yF2WQ0YsQbhH"
      }
    },
    {
      "cell_type": "code",
      "source": [
        "\n",
        "\n",
        "\n"
      ],
      "metadata": {
        "id": "Hz7PpFVjTkZG"
      },
      "execution_count": null,
      "outputs": []
    },
    {
      "cell_type": "markdown",
      "source": [
        "## Task 3: A function for parsing and displaying an RDF graph (1 pt)\n",
        "\n",
        "A function `parse_display_rdf(str)` that takes as parameter a string which represents an RDF graph in Turtle notation and \n",
        "- produces an rdflib.Graph from that string\n",
        "- prints the graph in Turte notation\n",
        "- prints the graph in RDF/XML\n",
        "- visualizes it using `visualize_graph` (to be taken from `V01_rdf.ipynb`)\n",
        "- visualizes it using (your improved version of) `visualize_graph_pyvis`\n",
        "- outputs it using `rdf2htmltable` (only if you have implemented this function)\n",
        "\n",
        "Test the function with `rdf_str` and with your solution to task `0. Intro` in the `1. RDF` sheet in `SemAI.jar`."
      ],
      "metadata": {
        "id": "AvL1cSUQQNFg"
      }
    },
    {
      "cell_type": "code",
      "source": [
        "\n",
        "\n",
        "\n"
      ],
      "metadata": {
        "id": "nr-PRsrzTnQP"
      },
      "execution_count": null,
      "outputs": []
    },
    {
      "cell_type": "markdown",
      "source": [
        "# Tasks 4-10 (1 point each)\n",
        "\n",
        "For each of the remaining 7 tasks in the \"1. RDF\" sheet in `SemAI.jar` do the following: \n",
        "- add a text cell in this notebook \n",
        "  - with the description of the task from `SemAI.jar` \n",
        "  - with number and title (e.g., **1. Simple Data Graph**)  from `SemAI.jar` as header \n",
        "- add a code cell where you apply `parse_display_rdf(str)` on your solution"
      ],
      "metadata": {
        "id": "6efAFC8dQexI"
      }
    }
  ],
  "metadata": {
    "kernelspec": {
      "display_name": "Python 3",
      "language": "python",
      "name": "python3"
    },
    "language_info": {
      "codemirror_mode": {
        "name": "ipython",
        "version": 3
      },
      "file_extension": ".py",
      "mimetype": "text/x-python",
      "name": "python",
      "nbconvert_exporter": "python",
      "pygments_lexer": "ipython3",
      "version": "3.6.7"
    },
    "colab": {
      "provenance": []
    }
  },
  "nbformat": 4,
  "nbformat_minor": 0
}