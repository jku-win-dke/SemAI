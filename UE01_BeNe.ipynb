{
  "cells": [
    {
      "cell_type": "markdown",
      "metadata": {
        "deletable": true,
        "editable": true,
        "id": "O7OBtgy8Je4u"
      },
      "source": [
        "# UE01: Working with Jupyter Notebooks in SemAI\n",
        "\n",
        "The notebooks provided via https://github.com/jku-win-dke/SemAI named UE\\<NR\\>\\_BeNe.ipynb are specifications and templates for your homework assignments. You can edit and execute them in the cloud using Google Colab (https://colab.research.google.com). No local installations required. \n",
        "\n",
        "### Open homework assignment\n",
        "\n",
        "- Use \"File\" -> \"Open notebook\"\n",
        "- Go to tab \"GitHub\"\n",
        "- Enter the address of the course's GitHub repository: jku-win-dke/SemAI\n",
        "- Choose the current exercise, e.g., UE01_BeNe.ipynb\n",
        "\n",
        "\n",
        "<img border=3 src=\"https://github.com/jku-win-dke/SemAI/raw/main/img/UE01_screen1.PNG\"/>\n",
        "\n",
        "### Save notebook \n",
        "\n",
        "- Save the notebook in your Google drive and rename the file to match your name (use the first two letters of your first and your last name, e.g., BeNe is the abbreviation of Bernd Neumayr).\n",
        "\n",
        "### Hand in your homework via Moodle\n",
        "\n",
        "Once you have finished your homework:\n",
        "\n",
        "- Use \"Edit\" -> \"Clear all outputs\" to clear the output of all cells\n",
        "- Use \"File\" -> \"Download\" -> \"Download .ipynb\" to download your notebook\n",
        "- Hand in the notebook file via Moodle.\n",
        "\n",
        "Make sure that the file you hand in is named according to the naming convention (see above).\n",
        "\n",
        "### Share your homework via GitHub\n",
        "\n",
        "- Use your existing GitHub account or create a new one to create a public repository named SemAI23. \n",
        "- After the submission deadline and before the practical course session upload your notebook file (named according to the naming convention) to your public GitHub repository.\n",
        "- In order to avoid plagiarism, do not publish your homework before the submission deadline.\n",
        "\n",
        "\n",
        "<hr>"
      ]
    },
    {
      "cell_type": "markdown",
      "source": [
        "# -> Python Tutorial\n",
        "\n",
        "Work through the introductory Python tutorial: https://colab.research.google.com/github/jku-win-dke/SemAI/blob/main/SemAI_python_tutorial.ipynb"
      ],
      "metadata": {
        "id": "_r99ksVkswrC"
      }
    },
    {
      "cell_type": "markdown",
      "metadata": {
        "deletable": true,
        "editable": true,
        "id": "hTGkVK2VJe4z"
      },
      "source": [
        "#### Further References\n",
        "\n",
        "- https://www.w3schools.com/python/\n",
        "- https://jupyter-notebook.readthedocs.io/en/latest/notebook.html\n",
        "- https://docs.python.org/3/tutorial/index.html\n",
        "- https://docs.python.org/3/tutorial/introduction.html\n",
        "- https://daringfireball.net/projects/markdown/syntax\n",
        "\n",
        "<hr>"
      ]
    },
    {
      "cell_type": "markdown",
      "source": [
        "# Task 1 (2 points)\n",
        "\n",
        "Create a list containing strings \"Peter Parker\", \"Mary Miller\", and \"Ben Baker\". Iterate through the list to produce the following output:\n",
        "<pre>\n",
        "1. Peter Parker\n",
        "2. Mary Miller\n",
        "3. Ben Baker\n",
        "</pre>\n"
      ],
      "metadata": {
        "id": "P2T3XKxDaNCA"
      }
    },
    {
      "cell_type": "code",
      "source": [
        "# your code comes here:\n",
        "\n"
      ],
      "metadata": {
        "id": "vRfpMBUz22g2"
      },
      "execution_count": null,
      "outputs": []
    },
    {
      "cell_type": "markdown",
      "source": [
        "# Task 2 (2 points)\n",
        "\n",
        "Create a new list containing strings \"1. PETER PARKER\", \"2. MARY MILLER\", \"3. BEN BAKER\" **from the list above**."
      ],
      "metadata": {
        "id": "HYdi5Ihl37_d"
      }
    },
    {
      "cell_type": "code",
      "source": [
        "# your code comes here:\n",
        "\n"
      ],
      "metadata": {
        "id": "7J2mBfnW5O6P"
      },
      "execution_count": null,
      "outputs": []
    },
    {
      "cell_type": "markdown",
      "source": [
        "# Task 3 (2 points)\n",
        "\n",
        "From the given dictionary d below produce the following output:\n",
        "\n",
        "<pre>\n",
        "a 30\n",
        "b 20\n",
        "c 10\n",
        "</pre>"
      ],
      "metadata": {
        "id": "6JZLUBBM50au"
      }
    },
    {
      "cell_type": "code",
      "source": [
        "d = { \"a\":[21,4,5], \"b\":[11,9], \"c\":[9,-2,3] }\n",
        "\n",
        "# your code comes here: \n"
      ],
      "metadata": {
        "colab": {
          "base_uri": "https://localhost:8080/"
        },
        "id": "x3aZ9umC6Efn",
        "outputId": "9c59250e-d731-4764-b267-003805cf158f"
      },
      "execution_count": null,
      "outputs": [
        {
          "output_type": "stream",
          "name": "stdout",
          "text": [
            "a 30\n",
            "b 20\n",
            "c 10\n"
          ]
        }
      ]
    },
    {
      "cell_type": "markdown",
      "source": [
        "# Task 4 (2 points)\n",
        "\n",
        "Given is a list of pairs. Produce a new list that contains for each pair the difference of the two values. Output the resulting list. It should be\n",
        "<pre>[2, -2, 3]</pre>\n",
        "\n"
      ],
      "metadata": {
        "id": "SsA6UQLN8KV3"
      }
    },
    {
      "cell_type": "code",
      "source": [
        "list = [ (4,2), (5,7), (5,2) ]\n",
        "\n",
        "# your code comes here"
      ],
      "metadata": {
        "colab": {
          "base_uri": "https://localhost:8080/"
        },
        "id": "Yb9Kbzfu9ZrG",
        "outputId": "a9a8eb8a-bfa6-4387-aa0c-3eaf1b9b7383"
      },
      "execution_count": null,
      "outputs": [
        {
          "output_type": "stream",
          "name": "stdout",
          "text": [
            "[2, -2, 3]\n"
          ]
        }
      ]
    },
    {
      "cell_type": "markdown",
      "source": [
        "## Task 5 (2 points)\n",
        "\n",
        "- Get SemAI.jar (https://drive.google.com/file/d/1iu9Zh2MdqmSQx_aBq4fZE_BzHZMpbCH3/view?usp=sharing). \n",
        "\n",
        "- Start the tool via command line (you need Java 15 or higher):\n",
        "\n",
        "<pre>\n",
        "C:\\dev>java -jar semai.jar\n",
        "</pre>\n",
        "\n",
        "- Open the tool by pointing your browser to http://localhost:8080. \n",
        "\n",
        "- You do not need to solve any exercises for now. **Document that everything works as expected by making a screenshot of your browser with the opened SemAI tool and replace the screenshot below with your screenshot.** You can use your GitHub repository to store the image file.    \n",
        "\n",
        "<img border=3 src=\"https://github.com/jku-win-dke/SemAI/raw/main/img/UE01_semai_jar.PNG\"/>"
      ],
      "metadata": {
        "id": "0q0QwbiMvfPD"
      }
    }
  ],
  "metadata": {
    "kernelspec": {
      "display_name": "Python 3",
      "language": "python",
      "name": "python3"
    },
    "language_info": {
      "codemirror_mode": {
        "name": "ipython",
        "version": 3
      },
      "file_extension": ".py",
      "mimetype": "text/x-python",
      "name": "python",
      "nbconvert_exporter": "python",
      "pygments_lexer": "ipython3",
      "version": "3.5.2"
    },
    "colab": {
      "provenance": []
    }
  },
  "nbformat": 4,
  "nbformat_minor": 0
}