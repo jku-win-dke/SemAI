{
  "nbformat": 4,
  "nbformat_minor": 0,
  "metadata": {
    "colab": {
      "provenance": []
    },
    "kernelspec": {
      "name": "python3",
      "display_name": "Python 3"
    },
    "language_info": {
      "name": "python"
    }
  },
  "cells": [
    {
      "cell_type": "markdown",
      "source": [
        "# Introduction to SPARQL Query"
      ],
      "metadata": {
        "id": "PUyG1F1sVDEW"
      }
    },
    {
      "cell_type": "markdown",
      "source": [
        "In this notebook, we delve into querying RDF graphs using SPARQL with the help of the rdflib library in Python. Our aim is to facilitate a smooth and convenient introduction to working with RDF and SPARQL using Python."
      ],
      "metadata": {
        "id": "Ky2HcjBHxqLp"
      }
    },
    {
      "cell_type": "code",
      "execution_count": 16,
      "metadata": {
        "id": "RgRHkpEsLmx_"
      },
      "outputs": [],
      "source": [
        "# Install required packages.\n",
        "\n",
        "!pip install -q rdflib"
      ]
    },
    {
      "cell_type": "markdown",
      "source": [
        "## Import Libraries and Define Convenient Functions\n",
        "\n",
        "We utilize the `query` method of `rdflib.Graph` and employ `pandas.DataFrame` as the data structure for SPARQL Result Sets.\n",
        "- We create a function called `sparql_select` that returns the result set of a SELECT query as a `pandas.DataFrame`, making it easier to visualize the results and display them in a tabular form.\n",
        "- We develop a function named `sparql_construct` that returns the resulting graph of a CONSTRUCT or DESCRIBE query as a `rdflib.Graph object`, ensuring it retains the same namespace prefixes as the original graph.\n",
        "\n"
      ],
      "metadata": {
        "id": "yRBr_COBQPQE"
      }
    },
    {
      "cell_type": "code",
      "source": [
        "import pandas as pd\n",
        "from rdflib import Graph, Literal, RDF, URIRef, BNode, Namespace\n",
        "from rdflib.namespace import FOAF , XSD , RDFS, NamespaceManager \n",
        "\n",
        "def sparql_select(graph,query,use_prefixes=True):\n",
        "  results = graph.query(query)          # execute the query against the graph, resulting in a rdflib.plugins.sparql.processor.SPARQLResult\n",
        "  rows = [ { var : res[var].n3(graph.namespace_manager) if (isinstance(res[var],URIRef) and use_prefixes) else res[var] for var in results.vars } for res in results ]     \n",
        "                                        # construct a list of dictionaries, as intermediate format to construct the pandas DataFrame, use prefixes to abbreviate URIs                \n",
        "  return pd.DataFrame(rows,columns=results.vars)        \n",
        "                                        # return a pandas DataFrame constructed from the list of dictionaries, with the variables from the result set as columns      \n",
        "\n",
        "def sparql_construct(graph, query):\n",
        "  result_graph = Graph(namespace_manager = g.namespace_manager)  # create a Graph object that reuses the namespace prefixes of the original graph\n",
        "  result_graph += graph.query(query)                             # execute the construct query against the original graph and add the resulting graph to the new one\n",
        "  return result_graph\n",
        "\n",
        "def sparql_ask(graph, query):\n",
        "  return bool(graph.query(query))      # an ASK query has a boolean result, which should be returned as such\n"
      ],
      "metadata": {
        "id": "0PE_ll0-MCdk"
      },
      "execution_count": 17,
      "outputs": []
    },
    {
      "cell_type": "markdown",
      "source": [
        "## Create a Graph\n",
        "First, let's create an rdflib.Graph object by parsing the example RDF graph, which is used in the lecture slides and can be queried in the SPARQL playground of SemAI.jar. This example graph is available in the SemAI GitHub repository at https://github.com/jku-win-dke/SemAI/blob/main/data/social.ttl."
      ],
      "metadata": {
        "id": "zQfng--RTPC_"
      }
    },
    {
      "cell_type": "code",
      "source": [
        "# Create a Graph object by parsing social.ttl the GitHub repo  (the example from the slides)\n",
        "g= Graph().parse(\"https://raw.githubusercontent.com/jku-win-dke/SemAI/main/data/social.ttl\",format=\"turtle\")\n",
        "g.bind(\"\",Namespace(\"http://example.org\"))\n",
        "print(g.serialize(format='turtle'))"
      ],
      "metadata": {
        "id": "33seTstdO23r",
        "colab": {
          "base_uri": "https://localhost:8080/"
        },
        "outputId": "57c5f84f-9cc6-43e1-857d-c43cbeafa352"
      },
      "execution_count": 18,
      "outputs": [
        {
          "output_type": "stream",
          "name": "stdout",
          "text": [
            "@prefix : <http://example.org/> .\n",
            "@prefix xsd: <http://www.w3.org/2001/XMLSchema#> .\n",
            "\n",
            ":bob a :Person ;\n",
            "    :age 26 ;\n",
            "    :loves :jane .\n",
            "\n",
            ":jane a :Person ;\n",
            "    :age 22 ;\n",
            "    :friend :bill,\n",
            "        :bob,\n",
            "        :mary ;\n",
            "    :gender \"female\"@en ;\n",
            "    :loves :bill .\n",
            "\n",
            ":mary a :Person ;\n",
            "    :age 22 ;\n",
            "    :friend :bob ;\n",
            "    :gender \"female\" ;\n",
            "    :loves :bill .\n",
            "\n",
            ":bill a :Person ;\n",
            "    :friend :jane,\n",
            "        :mary ;\n",
            "    :gender \"male\" .\n",
            "\n",
            "\n"
          ]
        }
      ]
    },
    {
      "cell_type": "markdown",
      "source": [
        "## SPARQL SELECT queries\n",
        "With rdflib, it's not necessary to define namespace prefixes in SPARQL queries explicitly. Instead, we can conveniently utilize the namespace prefixes already bound to the graph we're querying."
      ],
      "metadata": {
        "id": "16RH4kQySmn5"
      }
    },
    {
      "cell_type": "code",
      "source": [
        "q = \"\"\"\n",
        "SELECT ?x ?y\n",
        "WHERE { ?x :loves ?y . }\n",
        "\"\"\"\n",
        "\n",
        "for r in g.query(q):\n",
        "    print(r[\"x\"], r[\"y\"])"
      ],
      "metadata": {
        "id": "wFgFAmW0QgFb",
        "colab": {
          "base_uri": "https://localhost:8080/"
        },
        "outputId": "75f553b6-d6d8-49b9-bfd7-2c08dd1f1fe2"
      },
      "execution_count": 19,
      "outputs": [
        {
          "output_type": "stream",
          "name": "stdout",
          "text": [
            "http://example.org/jane http://example.org/bill\n",
            "http://example.org/mary http://example.org/bill\n",
            "http://example.org/bob http://example.org/jane\n"
          ]
        }
      ]
    },
    {
      "cell_type": "markdown",
      "source": [
        "## SPARQL SELECT queries to pandas.DataFrame\n",
        "\n",
        "A SPARQL SELECT query yields a result set, which is similar to the outcome of an SQL query. For easy visualization and printing of this result set, we convert it (using our function `sparql_select`) into a pandas DataFrame. When displayed, a DataFrame is automatically rendered as an HTML table.\n"
      ],
      "metadata": {
        "id": "_yki34-1T7_E"
      }
    },
    {
      "cell_type": "code",
      "source": [
        "df = sparql_select(g,\"\"\"\n",
        "SELECT  ?p (avg(?age) AS ?avgAge)\n",
        "WHERE\n",
        "  { ?p rdf:type :Person .\n",
        "    ?p :friend ?f .\n",
        "    ?f :age ?age\n",
        "  }\n",
        "GROUP BY ?p\n",
        "HAVING ( avg(?age) > 23 )\n",
        "\"\"\",use_prefixes=False)\n",
        "df"
      ],
      "metadata": {
        "colab": {
          "base_uri": "https://localhost:8080/",
          "height": 112
        },
        "id": "dJC5SB9tUCOa",
        "outputId": "487d9cb5-1a3f-4b60-fb9e-c3c8c2760c3e"
      },
      "execution_count": 20,
      "outputs": [
        {
          "output_type": "execute_result",
          "data": {
            "text/plain": [
              "                         p avgAge\n",
              "0  http://example.org/jane     24\n",
              "1  http://example.org/mary     26"
            ],
            "text/html": [
              "\n",
              "  <div id=\"df-aa10dcc2-4ba4-4f73-9bd5-75b36e22d046\">\n",
              "    <div class=\"colab-df-container\">\n",
              "      <div>\n",
              "<style scoped>\n",
              "    .dataframe tbody tr th:only-of-type {\n",
              "        vertical-align: middle;\n",
              "    }\n",
              "\n",
              "    .dataframe tbody tr th {\n",
              "        vertical-align: top;\n",
              "    }\n",
              "\n",
              "    .dataframe thead th {\n",
              "        text-align: right;\n",
              "    }\n",
              "</style>\n",
              "<table border=\"1\" class=\"dataframe\">\n",
              "  <thead>\n",
              "    <tr style=\"text-align: right;\">\n",
              "      <th></th>\n",
              "      <th>p</th>\n",
              "      <th>avgAge</th>\n",
              "    </tr>\n",
              "  </thead>\n",
              "  <tbody>\n",
              "    <tr>\n",
              "      <th>0</th>\n",
              "      <td>http://example.org/jane</td>\n",
              "      <td>24</td>\n",
              "    </tr>\n",
              "    <tr>\n",
              "      <th>1</th>\n",
              "      <td>http://example.org/mary</td>\n",
              "      <td>26</td>\n",
              "    </tr>\n",
              "  </tbody>\n",
              "</table>\n",
              "</div>\n",
              "      <button class=\"colab-df-convert\" onclick=\"convertToInteractive('df-aa10dcc2-4ba4-4f73-9bd5-75b36e22d046')\"\n",
              "              title=\"Convert this dataframe to an interactive table.\"\n",
              "              style=\"display:none;\">\n",
              "        \n",
              "  <svg xmlns=\"http://www.w3.org/2000/svg\" height=\"24px\"viewBox=\"0 0 24 24\"\n",
              "       width=\"24px\">\n",
              "    <path d=\"M0 0h24v24H0V0z\" fill=\"none\"/>\n",
              "    <path d=\"M18.56 5.44l.94 2.06.94-2.06 2.06-.94-2.06-.94-.94-2.06-.94 2.06-2.06.94zm-11 1L8.5 8.5l.94-2.06 2.06-.94-2.06-.94L8.5 2.5l-.94 2.06-2.06.94zm10 10l.94 2.06.94-2.06 2.06-.94-2.06-.94-.94-2.06-.94 2.06-2.06.94z\"/><path d=\"M17.41 7.96l-1.37-1.37c-.4-.4-.92-.59-1.43-.59-.52 0-1.04.2-1.43.59L10.3 9.45l-7.72 7.72c-.78.78-.78 2.05 0 2.83L4 21.41c.39.39.9.59 1.41.59.51 0 1.02-.2 1.41-.59l7.78-7.78 2.81-2.81c.8-.78.8-2.07 0-2.86zM5.41 20L4 18.59l7.72-7.72 1.47 1.35L5.41 20z\"/>\n",
              "  </svg>\n",
              "      </button>\n",
              "      \n",
              "  <style>\n",
              "    .colab-df-container {\n",
              "      display:flex;\n",
              "      flex-wrap:wrap;\n",
              "      gap: 12px;\n",
              "    }\n",
              "\n",
              "    .colab-df-convert {\n",
              "      background-color: #E8F0FE;\n",
              "      border: none;\n",
              "      border-radius: 50%;\n",
              "      cursor: pointer;\n",
              "      display: none;\n",
              "      fill: #1967D2;\n",
              "      height: 32px;\n",
              "      padding: 0 0 0 0;\n",
              "      width: 32px;\n",
              "    }\n",
              "\n",
              "    .colab-df-convert:hover {\n",
              "      background-color: #E2EBFA;\n",
              "      box-shadow: 0px 1px 2px rgba(60, 64, 67, 0.3), 0px 1px 3px 1px rgba(60, 64, 67, 0.15);\n",
              "      fill: #174EA6;\n",
              "    }\n",
              "\n",
              "    [theme=dark] .colab-df-convert {\n",
              "      background-color: #3B4455;\n",
              "      fill: #D2E3FC;\n",
              "    }\n",
              "\n",
              "    [theme=dark] .colab-df-convert:hover {\n",
              "      background-color: #434B5C;\n",
              "      box-shadow: 0px 1px 3px 1px rgba(0, 0, 0, 0.15);\n",
              "      filter: drop-shadow(0px 1px 2px rgba(0, 0, 0, 0.3));\n",
              "      fill: #FFFFFF;\n",
              "    }\n",
              "  </style>\n",
              "\n",
              "      <script>\n",
              "        const buttonEl =\n",
              "          document.querySelector('#df-aa10dcc2-4ba4-4f73-9bd5-75b36e22d046 button.colab-df-convert');\n",
              "        buttonEl.style.display =\n",
              "          google.colab.kernel.accessAllowed ? 'block' : 'none';\n",
              "\n",
              "        async function convertToInteractive(key) {\n",
              "          const element = document.querySelector('#df-aa10dcc2-4ba4-4f73-9bd5-75b36e22d046');\n",
              "          const dataTable =\n",
              "            await google.colab.kernel.invokeFunction('convertToInteractive',\n",
              "                                                     [key], {});\n",
              "          if (!dataTable) return;\n",
              "\n",
              "          const docLinkHtml = 'Like what you see? Visit the ' +\n",
              "            '<a target=\"_blank\" href=https://colab.research.google.com/notebooks/data_table.ipynb>data table notebook</a>'\n",
              "            + ' to learn more about interactive tables.';\n",
              "          element.innerHTML = '';\n",
              "          dataTable['output_type'] = 'display_data';\n",
              "          await google.colab.output.renderOutput(dataTable, element);\n",
              "          const docLink = document.createElement('div');\n",
              "          docLink.innerHTML = docLinkHtml;\n",
              "          element.appendChild(docLink);\n",
              "        }\n",
              "      </script>\n",
              "    </div>\n",
              "  </div>\n",
              "  "
            ]
          },
          "metadata": {},
          "execution_count": 20
        }
      ]
    },
    {
      "cell_type": "markdown",
      "source": [
        "## SPARQL CONSTRUCT queries\n",
        "\n",
        "A SPARQL CONSTRUCT query applied to an RDF graph produces another RDF graph as its output. By using our `sparql_construct` function, we ensure that the resulting graph retains the namespace prefixes from the original graph."
      ],
      "metadata": {
        "id": "ZCvenaqMSrSJ"
      }
    },
    {
      "cell_type": "code",
      "source": [
        "g2 = sparql_construct(g,\"\"\"\n",
        "  CONSTRUCT { ?y :lovedBy ?x . }\n",
        "  WHERE { ?x :loves ?y . }\n",
        "\"\"\")\n",
        "\n",
        "print(g2.serialize(format='turtle'))"
      ],
      "metadata": {
        "colab": {
          "base_uri": "https://localhost:8080/"
        },
        "id": "DmzTyS0HStyh",
        "outputId": "9274caf2-bd61-4ab2-f709-955712ac493d"
      },
      "execution_count": 21,
      "outputs": [
        {
          "output_type": "stream",
          "name": "stdout",
          "text": [
            "@prefix : <http://example.org/> .\n",
            "\n",
            ":bill :lovedBy :jane,\n",
            "        :mary .\n",
            "\n",
            ":jane :lovedBy :bob .\n",
            "\n",
            "\n"
          ]
        }
      ]
    },
    {
      "cell_type": "markdown",
      "source": [
        "## SPARQL ASK queries"
      ],
      "metadata": {
        "id": "6kQ9yj9_WkQ8"
      }
    },
    {
      "cell_type": "code",
      "source": [
        "print(sparql_ask(g,\"ASK { :jane :loves :bill } \"))\n",
        "\n",
        "if(sparql_ask(g,\"ASK { :jane :loves :mary }\")):\n",
        "  print(\"Jane loves Mary.\")\n",
        "else: \n",
        "  print(\"Jane doesn't love Mary.\")"
      ],
      "metadata": {
        "colab": {
          "base_uri": "https://localhost:8080/"
        },
        "id": "2N2-zjNfWmBV",
        "outputId": "a6d37d84-3ee8-4ace-afbb-9beb15472385"
      },
      "execution_count": 22,
      "outputs": [
        {
          "output_type": "stream",
          "name": "stdout",
          "text": [
            "True\n",
            "Jane doesn't love Mary.\n"
          ]
        }
      ]
    },
    {
      "cell_type": "markdown",
      "source": [
        "## SPARQL DESCRIBE queries\n",
        "\n",
        "SPARQL Describe queries can be treated in the same way as Construct queries. "
      ],
      "metadata": {
        "id": "pSjVtYvwaqSc"
      }
    },
    {
      "cell_type": "code",
      "source": [
        "g2 = sparql_construct(g,\"\"\"\n",
        "  DESCRIBE ?b\n",
        "  WHERE { ?a  a :Person;\n",
        "              :loves ?b . }\n",
        "\"\"\")\n",
        "\n",
        "print(g2.serialize(format='turtle'))"
      ],
      "metadata": {
        "colab": {
          "base_uri": "https://localhost:8080/"
        },
        "id": "PRC10JgwauXE",
        "outputId": "3b21c9c9-129e-4de8-8816-9fe8217d06ec"
      },
      "execution_count": 23,
      "outputs": [
        {
          "output_type": "stream",
          "name": "stdout",
          "text": [
            "@prefix : <http://example.org/> .\n",
            "@prefix xsd: <http://www.w3.org/2001/XMLSchema#> .\n",
            "\n",
            ":jane a :Person ;\n",
            "    :age 22 ;\n",
            "    :friend :bill,\n",
            "        :bob,\n",
            "        :mary ;\n",
            "    :gender \"female\"@en ;\n",
            "    :loves :bill .\n",
            "\n",
            ":bill a :Person ;\n",
            "    :friend :jane,\n",
            "        :mary ;\n",
            "    :gender \"male\" .\n",
            "\n",
            "\n"
          ]
        }
      ]
    },
    {
      "cell_type": "markdown",
      "source": [
        "# Load and query the solar system graph"
      ],
      "metadata": {
        "id": "-oxjmzndijKx"
      }
    },
    {
      "cell_type": "markdown",
      "source": [
        "The tasks in the SPARQL sheet of SemAI.jar involve querying an RDF graph that represents our solar system. This graph can be found in the SemAI GitHub repository at the following URL: https://github.com/jku-win-dke/SemAI/blob/main/data/solarsystem.ttl.\n",
        "\n",
        "Let's load that graph and query it. "
      ],
      "metadata": {
        "id": "hWfidVPyrES0"
      }
    },
    {
      "cell_type": "code",
      "source": [
        "g_solar = Graph()\n",
        "g_solar.parse(\"https://raw.githubusercontent.com/jku-win-dke/SemAI/main/data/solarsystem.ttl\",format=\"turtle\")\n",
        "\n",
        "df = sparql_select(g_solar,\"\"\"\n",
        "  SELECT ?planet ?apoapsis ?apoapsis_uom\n",
        "  WHERE { \n",
        "    ?planet rdf:type dbo:Planet . \n",
        "    OPTIONAL { ?planet v:apoapsis [rdf:value ?apoapsis ; v:uom ?apoapsis_uom ].  }\n",
        "  }\n",
        "\"\"\")\n",
        "df"
      ],
      "metadata": {
        "colab": {
          "base_uri": "https://localhost:8080/",
          "height": 331
        },
        "id": "f2a0xzLVb6f6",
        "outputId": "b1cbbdf3-f647-453f-bfbf-893aba375260"
      },
      "execution_count": 24,
      "outputs": [
        {
          "output_type": "execute_result",
          "data": {
            "text/plain": [
              "     planet   apoapsis apoapsis_uom\n",
              "0  :Mercury      0.467      unit:AU\n",
              "1    :Venus      0.728      unit:AU\n",
              "2    :Earth      1.017      unit:AU\n",
              "3    :Earth  149597871      unit:KM\n",
              "4     :Mars      1.666      unit:AU\n",
              "5  :Jupiter     5.4588      unit:AU\n",
              "6   :Saturn     9.0412      unit:AU\n",
              "7   :Uranus      20.11      unit:AU\n",
              "8  :Neptune      30.33      unit:AU"
            ],
            "text/html": [
              "\n",
              "  <div id=\"df-450ba07c-32c2-4b04-b2fe-c430fbf81e7c\">\n",
              "    <div class=\"colab-df-container\">\n",
              "      <div>\n",
              "<style scoped>\n",
              "    .dataframe tbody tr th:only-of-type {\n",
              "        vertical-align: middle;\n",
              "    }\n",
              "\n",
              "    .dataframe tbody tr th {\n",
              "        vertical-align: top;\n",
              "    }\n",
              "\n",
              "    .dataframe thead th {\n",
              "        text-align: right;\n",
              "    }\n",
              "</style>\n",
              "<table border=\"1\" class=\"dataframe\">\n",
              "  <thead>\n",
              "    <tr style=\"text-align: right;\">\n",
              "      <th></th>\n",
              "      <th>planet</th>\n",
              "      <th>apoapsis</th>\n",
              "      <th>apoapsis_uom</th>\n",
              "    </tr>\n",
              "  </thead>\n",
              "  <tbody>\n",
              "    <tr>\n",
              "      <th>0</th>\n",
              "      <td>:Mercury</td>\n",
              "      <td>0.467</td>\n",
              "      <td>unit:AU</td>\n",
              "    </tr>\n",
              "    <tr>\n",
              "      <th>1</th>\n",
              "      <td>:Venus</td>\n",
              "      <td>0.728</td>\n",
              "      <td>unit:AU</td>\n",
              "    </tr>\n",
              "    <tr>\n",
              "      <th>2</th>\n",
              "      <td>:Earth</td>\n",
              "      <td>1.017</td>\n",
              "      <td>unit:AU</td>\n",
              "    </tr>\n",
              "    <tr>\n",
              "      <th>3</th>\n",
              "      <td>:Earth</td>\n",
              "      <td>149597871</td>\n",
              "      <td>unit:KM</td>\n",
              "    </tr>\n",
              "    <tr>\n",
              "      <th>4</th>\n",
              "      <td>:Mars</td>\n",
              "      <td>1.666</td>\n",
              "      <td>unit:AU</td>\n",
              "    </tr>\n",
              "    <tr>\n",
              "      <th>5</th>\n",
              "      <td>:Jupiter</td>\n",
              "      <td>5.4588</td>\n",
              "      <td>unit:AU</td>\n",
              "    </tr>\n",
              "    <tr>\n",
              "      <th>6</th>\n",
              "      <td>:Saturn</td>\n",
              "      <td>9.0412</td>\n",
              "      <td>unit:AU</td>\n",
              "    </tr>\n",
              "    <tr>\n",
              "      <th>7</th>\n",
              "      <td>:Uranus</td>\n",
              "      <td>20.11</td>\n",
              "      <td>unit:AU</td>\n",
              "    </tr>\n",
              "    <tr>\n",
              "      <th>8</th>\n",
              "      <td>:Neptune</td>\n",
              "      <td>30.33</td>\n",
              "      <td>unit:AU</td>\n",
              "    </tr>\n",
              "  </tbody>\n",
              "</table>\n",
              "</div>\n",
              "      <button class=\"colab-df-convert\" onclick=\"convertToInteractive('df-450ba07c-32c2-4b04-b2fe-c430fbf81e7c')\"\n",
              "              title=\"Convert this dataframe to an interactive table.\"\n",
              "              style=\"display:none;\">\n",
              "        \n",
              "  <svg xmlns=\"http://www.w3.org/2000/svg\" height=\"24px\"viewBox=\"0 0 24 24\"\n",
              "       width=\"24px\">\n",
              "    <path d=\"M0 0h24v24H0V0z\" fill=\"none\"/>\n",
              "    <path d=\"M18.56 5.44l.94 2.06.94-2.06 2.06-.94-2.06-.94-.94-2.06-.94 2.06-2.06.94zm-11 1L8.5 8.5l.94-2.06 2.06-.94-2.06-.94L8.5 2.5l-.94 2.06-2.06.94zm10 10l.94 2.06.94-2.06 2.06-.94-2.06-.94-.94-2.06-.94 2.06-2.06.94z\"/><path d=\"M17.41 7.96l-1.37-1.37c-.4-.4-.92-.59-1.43-.59-.52 0-1.04.2-1.43.59L10.3 9.45l-7.72 7.72c-.78.78-.78 2.05 0 2.83L4 21.41c.39.39.9.59 1.41.59.51 0 1.02-.2 1.41-.59l7.78-7.78 2.81-2.81c.8-.78.8-2.07 0-2.86zM5.41 20L4 18.59l7.72-7.72 1.47 1.35L5.41 20z\"/>\n",
              "  </svg>\n",
              "      </button>\n",
              "      \n",
              "  <style>\n",
              "    .colab-df-container {\n",
              "      display:flex;\n",
              "      flex-wrap:wrap;\n",
              "      gap: 12px;\n",
              "    }\n",
              "\n",
              "    .colab-df-convert {\n",
              "      background-color: #E8F0FE;\n",
              "      border: none;\n",
              "      border-radius: 50%;\n",
              "      cursor: pointer;\n",
              "      display: none;\n",
              "      fill: #1967D2;\n",
              "      height: 32px;\n",
              "      padding: 0 0 0 0;\n",
              "      width: 32px;\n",
              "    }\n",
              "\n",
              "    .colab-df-convert:hover {\n",
              "      background-color: #E2EBFA;\n",
              "      box-shadow: 0px 1px 2px rgba(60, 64, 67, 0.3), 0px 1px 3px 1px rgba(60, 64, 67, 0.15);\n",
              "      fill: #174EA6;\n",
              "    }\n",
              "\n",
              "    [theme=dark] .colab-df-convert {\n",
              "      background-color: #3B4455;\n",
              "      fill: #D2E3FC;\n",
              "    }\n",
              "\n",
              "    [theme=dark] .colab-df-convert:hover {\n",
              "      background-color: #434B5C;\n",
              "      box-shadow: 0px 1px 3px 1px rgba(0, 0, 0, 0.15);\n",
              "      filter: drop-shadow(0px 1px 2px rgba(0, 0, 0, 0.3));\n",
              "      fill: #FFFFFF;\n",
              "    }\n",
              "  </style>\n",
              "\n",
              "      <script>\n",
              "        const buttonEl =\n",
              "          document.querySelector('#df-450ba07c-32c2-4b04-b2fe-c430fbf81e7c button.colab-df-convert');\n",
              "        buttonEl.style.display =\n",
              "          google.colab.kernel.accessAllowed ? 'block' : 'none';\n",
              "\n",
              "        async function convertToInteractive(key) {\n",
              "          const element = document.querySelector('#df-450ba07c-32c2-4b04-b2fe-c430fbf81e7c');\n",
              "          const dataTable =\n",
              "            await google.colab.kernel.invokeFunction('convertToInteractive',\n",
              "                                                     [key], {});\n",
              "          if (!dataTable) return;\n",
              "\n",
              "          const docLinkHtml = 'Like what you see? Visit the ' +\n",
              "            '<a target=\"_blank\" href=https://colab.research.google.com/notebooks/data_table.ipynb>data table notebook</a>'\n",
              "            + ' to learn more about interactive tables.';\n",
              "          element.innerHTML = '';\n",
              "          dataTable['output_type'] = 'display_data';\n",
              "          await google.colab.output.renderOutput(dataTable, element);\n",
              "          const docLink = document.createElement('div');\n",
              "          docLink.innerHTML = docLinkHtml;\n",
              "          element.appendChild(docLink);\n",
              "        }\n",
              "      </script>\n",
              "    </div>\n",
              "  </div>\n",
              "  "
            ]
          },
          "metadata": {},
          "execution_count": 24
        }
      ]
    },
    {
      "cell_type": "markdown",
      "source": [
        "### Making Use of `BASE`\n",
        "A base namespace can be quite useful in Turtle and SPARQL. However, its support in rdflib (and some other RDF libraries) may not be flawless. Instead of using the `base` parameter of the Graph class, it seems more reliable to specify the BASE namespace directly within your SPARQL query."
      ],
      "metadata": {
        "id": "kZrsMfc_ldNH"
      }
    },
    {
      "cell_type": "code",
      "source": [
        "df = sparql_select(g_solar,\"\"\"\n",
        "  BASE <http://dke.jku.at/example/>\n",
        "  SELECT ?p ?o\n",
        "  WHERE { \n",
        "    <solarsystem/Earth> ?p ?o . \n",
        "  }\n",
        "\"\"\")\n",
        "df"
      ],
      "metadata": {
        "colab": {
          "base_uri": "https://localhost:8080/",
          "height": 363
        },
        "id": "XODhtZNKligf",
        "outputId": "93683e6a-3d68-4c9f-8b71-e540070dd0b9"
      },
      "execution_count": 25,
      "outputs": [
        {
          "output_type": "execute_result",
          "data": {
            "text/plain": [
              "                 p                                     o\n",
              "0  skos:exactMatch                             dbr:Earth\n",
              "1         rdf:type                            dbo:Planet\n",
              "2         sdo:name                          Planet Earth\n",
              "3         sdo:name                                  Erde\n",
              "4         v:orbits                                  :Sun\n",
              "5       v:apoapsis  n095783546f5647fd9ef4db874b488daab13\n",
              "6       v:apoapsis  n095783546f5647fd9ef4db874b488daab14\n",
              "7     :temperature  n095783546f5647fd9ef4db874b488daab15\n",
              "8     :temperature  n095783546f5647fd9ef4db874b488daab16\n",
              "9      v:nrOfMoons                                     1"
            ],
            "text/html": [
              "\n",
              "  <div id=\"df-8c949219-f2a5-4af0-b793-47f685b2e011\">\n",
              "    <div class=\"colab-df-container\">\n",
              "      <div>\n",
              "<style scoped>\n",
              "    .dataframe tbody tr th:only-of-type {\n",
              "        vertical-align: middle;\n",
              "    }\n",
              "\n",
              "    .dataframe tbody tr th {\n",
              "        vertical-align: top;\n",
              "    }\n",
              "\n",
              "    .dataframe thead th {\n",
              "        text-align: right;\n",
              "    }\n",
              "</style>\n",
              "<table border=\"1\" class=\"dataframe\">\n",
              "  <thead>\n",
              "    <tr style=\"text-align: right;\">\n",
              "      <th></th>\n",
              "      <th>p</th>\n",
              "      <th>o</th>\n",
              "    </tr>\n",
              "  </thead>\n",
              "  <tbody>\n",
              "    <tr>\n",
              "      <th>0</th>\n",
              "      <td>skos:exactMatch</td>\n",
              "      <td>dbr:Earth</td>\n",
              "    </tr>\n",
              "    <tr>\n",
              "      <th>1</th>\n",
              "      <td>rdf:type</td>\n",
              "      <td>dbo:Planet</td>\n",
              "    </tr>\n",
              "    <tr>\n",
              "      <th>2</th>\n",
              "      <td>sdo:name</td>\n",
              "      <td>Planet Earth</td>\n",
              "    </tr>\n",
              "    <tr>\n",
              "      <th>3</th>\n",
              "      <td>sdo:name</td>\n",
              "      <td>Erde</td>\n",
              "    </tr>\n",
              "    <tr>\n",
              "      <th>4</th>\n",
              "      <td>v:orbits</td>\n",
              "      <td>:Sun</td>\n",
              "    </tr>\n",
              "    <tr>\n",
              "      <th>5</th>\n",
              "      <td>v:apoapsis</td>\n",
              "      <td>n095783546f5647fd9ef4db874b488daab13</td>\n",
              "    </tr>\n",
              "    <tr>\n",
              "      <th>6</th>\n",
              "      <td>v:apoapsis</td>\n",
              "      <td>n095783546f5647fd9ef4db874b488daab14</td>\n",
              "    </tr>\n",
              "    <tr>\n",
              "      <th>7</th>\n",
              "      <td>:temperature</td>\n",
              "      <td>n095783546f5647fd9ef4db874b488daab15</td>\n",
              "    </tr>\n",
              "    <tr>\n",
              "      <th>8</th>\n",
              "      <td>:temperature</td>\n",
              "      <td>n095783546f5647fd9ef4db874b488daab16</td>\n",
              "    </tr>\n",
              "    <tr>\n",
              "      <th>9</th>\n",
              "      <td>v:nrOfMoons</td>\n",
              "      <td>1</td>\n",
              "    </tr>\n",
              "  </tbody>\n",
              "</table>\n",
              "</div>\n",
              "      <button class=\"colab-df-convert\" onclick=\"convertToInteractive('df-8c949219-f2a5-4af0-b793-47f685b2e011')\"\n",
              "              title=\"Convert this dataframe to an interactive table.\"\n",
              "              style=\"display:none;\">\n",
              "        \n",
              "  <svg xmlns=\"http://www.w3.org/2000/svg\" height=\"24px\"viewBox=\"0 0 24 24\"\n",
              "       width=\"24px\">\n",
              "    <path d=\"M0 0h24v24H0V0z\" fill=\"none\"/>\n",
              "    <path d=\"M18.56 5.44l.94 2.06.94-2.06 2.06-.94-2.06-.94-.94-2.06-.94 2.06-2.06.94zm-11 1L8.5 8.5l.94-2.06 2.06-.94-2.06-.94L8.5 2.5l-.94 2.06-2.06.94zm10 10l.94 2.06.94-2.06 2.06-.94-2.06-.94-.94-2.06-.94 2.06-2.06.94z\"/><path d=\"M17.41 7.96l-1.37-1.37c-.4-.4-.92-.59-1.43-.59-.52 0-1.04.2-1.43.59L10.3 9.45l-7.72 7.72c-.78.78-.78 2.05 0 2.83L4 21.41c.39.39.9.59 1.41.59.51 0 1.02-.2 1.41-.59l7.78-7.78 2.81-2.81c.8-.78.8-2.07 0-2.86zM5.41 20L4 18.59l7.72-7.72 1.47 1.35L5.41 20z\"/>\n",
              "  </svg>\n",
              "      </button>\n",
              "      \n",
              "  <style>\n",
              "    .colab-df-container {\n",
              "      display:flex;\n",
              "      flex-wrap:wrap;\n",
              "      gap: 12px;\n",
              "    }\n",
              "\n",
              "    .colab-df-convert {\n",
              "      background-color: #E8F0FE;\n",
              "      border: none;\n",
              "      border-radius: 50%;\n",
              "      cursor: pointer;\n",
              "      display: none;\n",
              "      fill: #1967D2;\n",
              "      height: 32px;\n",
              "      padding: 0 0 0 0;\n",
              "      width: 32px;\n",
              "    }\n",
              "\n",
              "    .colab-df-convert:hover {\n",
              "      background-color: #E2EBFA;\n",
              "      box-shadow: 0px 1px 2px rgba(60, 64, 67, 0.3), 0px 1px 3px 1px rgba(60, 64, 67, 0.15);\n",
              "      fill: #174EA6;\n",
              "    }\n",
              "\n",
              "    [theme=dark] .colab-df-convert {\n",
              "      background-color: #3B4455;\n",
              "      fill: #D2E3FC;\n",
              "    }\n",
              "\n",
              "    [theme=dark] .colab-df-convert:hover {\n",
              "      background-color: #434B5C;\n",
              "      box-shadow: 0px 1px 3px 1px rgba(0, 0, 0, 0.15);\n",
              "      filter: drop-shadow(0px 1px 2px rgba(0, 0, 0, 0.3));\n",
              "      fill: #FFFFFF;\n",
              "    }\n",
              "  </style>\n",
              "\n",
              "      <script>\n",
              "        const buttonEl =\n",
              "          document.querySelector('#df-8c949219-f2a5-4af0-b793-47f685b2e011 button.colab-df-convert');\n",
              "        buttonEl.style.display =\n",
              "          google.colab.kernel.accessAllowed ? 'block' : 'none';\n",
              "\n",
              "        async function convertToInteractive(key) {\n",
              "          const element = document.querySelector('#df-8c949219-f2a5-4af0-b793-47f685b2e011');\n",
              "          const dataTable =\n",
              "            await google.colab.kernel.invokeFunction('convertToInteractive',\n",
              "                                                     [key], {});\n",
              "          if (!dataTable) return;\n",
              "\n",
              "          const docLinkHtml = 'Like what you see? Visit the ' +\n",
              "            '<a target=\"_blank\" href=https://colab.research.google.com/notebooks/data_table.ipynb>data table notebook</a>'\n",
              "            + ' to learn more about interactive tables.';\n",
              "          element.innerHTML = '';\n",
              "          dataTable['output_type'] = 'display_data';\n",
              "          await google.colab.output.renderOutput(dataTable, element);\n",
              "          const docLink = document.createElement('div');\n",
              "          docLink.innerHTML = docLinkHtml;\n",
              "          element.appendChild(docLink);\n",
              "        }\n",
              "      </script>\n",
              "    </div>\n",
              "  </div>\n",
              "  "
            ]
          },
          "metadata": {},
          "execution_count": 25
        }
      ]
    }
  ]
}