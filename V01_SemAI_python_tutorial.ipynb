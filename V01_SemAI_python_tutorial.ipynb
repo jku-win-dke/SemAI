{
  "nbformat": 4,
  "nbformat_minor": 0,
  "metadata": {
    "colab": {
      "provenance": []
    },
    "language_info": {
      "name": "python"
    },
    "kernelspec": {
      "name": "python3",
      "display_name": "Python 3"
    },
    "gpuClass": "standard"
  },
  "cells": [
    {
      "cell_type": "markdown",
      "source": [
        "#SemAI Python Introductory Tutorial"
      ],
      "metadata": {
        "id": "vKJsjwHFUEre"
      }
    },
    {
      "cell_type": "markdown",
      "source": [
        "Adapted by Bernd Neumayr from the CS228 Python Tutorial (https://colab.research.google.com/github/kuleshov/teaching-material/blob/master/tutorials/python/cs228-python-tutorial.ipynb) by [Volodymyr Kuleshov](http://web.stanford.edu/~kuleshov/) and [Isaac Caswell](https://symsys.stanford.edu/viewing/symsysaffiliate/21335) from the `CS231n` Python tutorial by Justin Johnson (http://cs231n.github.io/python-numpy-tutorial/).\n",
        "\n",
        "<hr>"
      ],
      "metadata": {
        "id": "-JzwBvSpUErn"
      }
    },
    {
      "cell_type": "markdown",
      "source": [
        "## References\n",
        "\n",
        "- https://www.w3schools.com/python/\n",
        "- https://jupyter-notebook.readthedocs.io/en/latest/notebook.html\n",
        "- https://docs.python.org/3/tutorial/index.html\n",
        "- https://docs.python.org/3/tutorial/introduction.html\n",
        "- https://daringfireball.net/projects/markdown/syntax\n",
        "\n",
        "<hr>"
      ],
      "metadata": {
        "id": "NjfwdHvGtP8C"
      }
    },
    {
      "cell_type": "markdown",
      "source": [
        "##Introduction\n",
        "\n",
        "Python is a high-level, dynamically typed multiparadigm programming language. Python code is often said to be almost like pseudocode, since it allows you to express very powerful ideas in very few lines of code while being very readable. \n",
        "\n",
        "In this tutorial, we will cover:\n",
        "\n",
        "- Basic data types \n",
        "  - Containers\n",
        "  - Lists\n",
        "  - Dictionaries\n",
        "  - Sets\n",
        "  - Tuples\n",
        "- Functions\n",
        "- Classes"
      ],
      "metadata": {
        "id": "x7v5oLghUEru"
      }
    },
    {
      "cell_type": "markdown",
      "source": [
        "###Basic data types"
      ],
      "metadata": {
        "id": "LRlv2UJ3UEsM"
      }
    },
    {
      "cell_type": "markdown",
      "source": [
        "####Numbers"
      ],
      "metadata": {
        "id": "1rJJBBBBUEsQ"
      }
    },
    {
      "cell_type": "markdown",
      "source": [
        "Integers and floats work as you would expect from other languages:"
      ],
      "metadata": {
        "id": "y-P4c8pUUEsS"
      }
    },
    {
      "cell_type": "code",
      "source": [
        "x = 3\n",
        "print(x)\n",
        "print(type(x))"
      ],
      "outputs": [],
      "metadata": {
        "id": "05XZQpV3UEsU"
      },
      "execution_count": null
    },
    {
      "cell_type": "code",
      "source": [
        "print(x + 1)   # Addition;\n",
        "print(x - 1)   # Subtraction;\n",
        "print(x * 2)   # Multiplication;\n",
        "print(x ** 2)  # Exponentiation;"
      ],
      "outputs": [],
      "metadata": {
        "id": "e38EgV9nUEsW"
      },
      "execution_count": null
    },
    {
      "cell_type": "code",
      "source": [
        "x += 1\n",
        "print(x)  # Prints \"4\"\n",
        "x *= 2\n",
        "print(x)  # Prints \"8\""
      ],
      "outputs": [],
      "metadata": {
        "id": "InuDG0EOUEsZ"
      },
      "execution_count": null
    },
    {
      "cell_type": "code",
      "source": [
        "y = 2.5\n",
        "print(type(y)) # Prints \"<class 'float'>\"\n",
        "print(y, y + 1, y * 2, y ** 2) # Prints \"2.5 3.5 5.0 6.25\""
      ],
      "outputs": [],
      "metadata": {
        "id": "G-p4bj0TUEsc"
      },
      "execution_count": null
    },
    {
      "cell_type": "markdown",
      "source": [
        "Note that unlike many languages, Python does not have unary increment (x++) or decrement (x--) operators."
      ],
      "metadata": {
        "id": "SzS0XUOoUEsg"
      }
    },
    {
      "cell_type": "markdown",
      "source": [
        "####Booleans"
      ],
      "metadata": {
        "id": "8sKPxThWUEsh"
      }
    },
    {
      "cell_type": "markdown",
      "source": [
        "Python implements all of the usual operators for Boolean logic, but uses English words rather than symbols (`&&`, `||`, etc.):"
      ],
      "metadata": {
        "id": "ZFDS-DPwUEsj"
      }
    },
    {
      "cell_type": "code",
      "source": [
        "t, f = True, False\n",
        "print(type(t)) # Prints \"<class 'bool'>\""
      ],
      "outputs": [],
      "metadata": {
        "id": "xFV1ni_uUEsk"
      },
      "execution_count": null
    },
    {
      "cell_type": "markdown",
      "source": [
        "Now we let's look at the operations:"
      ],
      "metadata": {
        "id": "z76GAWovUEsn"
      }
    },
    {
      "cell_type": "code",
      "source": [
        "print(t and f) # Logical AND;\n",
        "print(t or f)  # Logical OR;\n",
        "print(not t)   # Logical NOT;\n",
        "print(t != f)  # Logical XOR;"
      ],
      "outputs": [],
      "metadata": {
        "id": "kpPONd-6UEso"
      },
      "execution_count": null
    },
    {
      "cell_type": "markdown",
      "source": [
        "####Strings"
      ],
      "metadata": {
        "id": "LRXI1NvxUEsr"
      }
    },
    {
      "cell_type": "code",
      "source": [
        "hello = 'hello'   # String literals can use single quotes\n",
        "world = \"world\"   # or double quotes; it does not matter.\n",
        "print(hello, len(hello))"
      ],
      "outputs": [],
      "metadata": {
        "id": "6JRyx4ewUEsu"
      },
      "execution_count": null
    },
    {
      "cell_type": "code",
      "source": [
        "hw = hello + ' ' + world  # String concatenation\n",
        "print(hw)  # prints \"hello world\""
      ],
      "outputs": [],
      "metadata": {
        "id": "v7y6ujuwUEsw"
      },
      "execution_count": null
    },
    {
      "cell_type": "code",
      "source": [
        "hw12 = '%s %s %d' % (hello, world, 12)  # sprintf style string formatting\n",
        "print(hw12)  # prints \"hello world 12\""
      ],
      "outputs": [],
      "metadata": {
        "id": "vt0WfehMUEsy"
      },
      "execution_count": null
    },
    {
      "cell_type": "markdown",
      "source": [
        "String objects have a bunch of useful methods; for example:"
      ],
      "metadata": {
        "id": "_ejJsPAMUEs1"
      }
    },
    {
      "cell_type": "code",
      "source": [
        "s = \"hello\"\n",
        "print(s.capitalize())  # Capitalize a string; prints \"Hello\"\n",
        "print(s.upper())       # Convert a string to uppercase; prints \"HELLO\"\n",
        "print(s.rjust(7))      # Right-justify a string, padding with spaces; prints \"  hello\"\n",
        "print(s.center(7))     # Center a string, padding with spaces; prints \" hello \"\n",
        "print(s.replace('l', '(ell)'))  # Replace all instances of one substring with another;\n",
        "                               # prints \"he(ell)(ell)o\"\n",
        "print('  world '.strip())  # Strip leading and trailing whitespace; prints \"world\""
      ],
      "outputs": [],
      "metadata": {
        "id": "u80jAXYEUEs2"
      },
      "execution_count": null
    },
    {
      "cell_type": "markdown",
      "source": [
        "###Containers"
      ],
      "metadata": {
        "id": "k1vJTA8xUEs7"
      }
    },
    {
      "cell_type": "markdown",
      "source": [
        "Python includes several built-in container types: lists, dictionaries, sets, and tuples."
      ],
      "metadata": {
        "id": "q6ZCped-UEs9"
      }
    },
    {
      "cell_type": "markdown",
      "source": [
        "####Lists"
      ],
      "metadata": {
        "id": "WYKPxMyKUEs-"
      }
    },
    {
      "cell_type": "markdown",
      "source": [
        "A list is the Python equivalent of an array, but is resizeable and can contain elements of different types:"
      ],
      "metadata": {
        "id": "mYIGWLyyUEtA"
      }
    },
    {
      "cell_type": "code",
      "source": [
        "xs = [3, 1, 2]   # Create a list\n",
        "print(xs, xs[2])\n",
        "print(xs[-1])     # Negative indices count from the end of the list; prints \"2\""
      ],
      "outputs": [],
      "metadata": {
        "id": "Dx8K5tvfUEtC"
      },
      "execution_count": null
    },
    {
      "cell_type": "code",
      "source": [
        "xs[2] = 'foo'    # Lists can contain elements of different types\n",
        "print(xs)"
      ],
      "outputs": [],
      "metadata": {
        "id": "W1OzF9izUEtE"
      },
      "execution_count": null
    },
    {
      "cell_type": "code",
      "source": [
        "xs.append('bar') # Add a new element to the end of the list\n",
        "print(xs)  "
      ],
      "outputs": [],
      "metadata": {
        "id": "eg8DvA4AUEtH"
      },
      "execution_count": null
    },
    {
      "cell_type": "code",
      "source": [
        "x = xs.pop()     # Remove and return the last element of the list\n",
        "print(x, xs) "
      ],
      "outputs": [],
      "metadata": {
        "id": "LsvM3VEMUEtJ"
      },
      "execution_count": null
    },
    {
      "cell_type": "markdown",
      "source": [
        "####Slicing"
      ],
      "metadata": {
        "id": "vy0Z7zUxUEtO"
      }
    },
    {
      "cell_type": "markdown",
      "source": [
        "In addition to accessing list elements one at a time, Python provides concise syntax to access sublists; this is known as slicing:"
      ],
      "metadata": {
        "id": "Eju_2u0LUEtQ"
      }
    },
    {
      "cell_type": "code",
      "source": [
        "names = ['ada','ben','edi','ida','mia','zoe']    \n",
        "print(names)         \n",
        "print(names[2:4])    # Get a slice from index 2 to 4 (exclusive);\n",
        "print(names[2:])     # Get a slice from index 2 to the end; \n",
        "print(names[:2])     # Get a slice from the start to index 2 (exclusive); \n",
        "print(names[:-2])    # Slice indices can be negative; "
      ],
      "metadata": {
        "id": "7M_ju7fNaK6C"
      },
      "execution_count": null,
      "outputs": []
    },
    {
      "cell_type": "markdown",
      "source": [
        " #### Loops"
      ],
      "metadata": {
        "id": "dUfCpemkUEtT"
      }
    },
    {
      "cell_type": "markdown",
      "source": [
        "You can loop over the elements of a list like this:"
      ],
      "metadata": {
        "id": "Yx_cV5RRUEtU"
      }
    },
    {
      "cell_type": "code",
      "source": [
        "animals = ['cat', 'dog', 'monkey']\n",
        "for animal in animals:\n",
        "    print(animal)"
      ],
      "outputs": [],
      "metadata": {
        "id": "X6voAcdkUEtV"
      },
      "execution_count": null
    },
    {
      "cell_type": "markdown",
      "source": [
        "If you want access to the index of each element within the body of a loop, use the built-in `enumerate` function:"
      ],
      "metadata": {
        "id": "YWO2WLgfUEtX"
      }
    },
    {
      "cell_type": "code",
      "source": [
        "animals = ['cat', 'dog', 'monkey']\n",
        "for idx, animal in enumerate(animals):\n",
        "    print('#%d: %s' % (idx + 1, animal))"
      ],
      "outputs": [],
      "metadata": {
        "id": "iJhhWrDiUEtY"
      },
      "execution_count": null
    },
    {
      "cell_type": "markdown",
      "source": [
        "#### Ranges"
      ],
      "metadata": {
        "id": "elORhYVLbKeb"
      }
    },
    {
      "cell_type": "code",
      "source": [
        "nums = range(5)    \n",
        "print(nums)\n",
        "\n",
        "for i in nums:\n",
        "  print(i)\n",
        "\n",
        "print()\n",
        "for i in range(3,6):\n",
        "  print(i)  \n"
      ],
      "outputs": [],
      "metadata": {
        "id": "182Kja-pUEtR"
      },
      "execution_count": null
    },
    {
      "cell_type": "markdown",
      "source": [
        "####List comprehensions:"
      ],
      "metadata": {
        "id": "rcKvZf32UEta"
      }
    },
    {
      "cell_type": "markdown",
      "source": [
        "When programming, frequently we want to transform one type of data into another. As a simple example, consider the following code that computes square numbers:"
      ],
      "metadata": {
        "id": "4Pzzc3BkUEtb"
      }
    },
    {
      "cell_type": "code",
      "source": [
        "nums = [0, 1, 2, 3, 4]\n",
        "squares = []\n",
        "for x in nums:\n",
        "    squares.append(x ** 2)\n",
        "print(squares)"
      ],
      "outputs": [],
      "metadata": {
        "id": "KWy5IoaQUEtd"
      },
      "execution_count": null
    },
    {
      "cell_type": "markdown",
      "source": [
        "You can make this code simpler using a list comprehension:"
      ],
      "metadata": {
        "id": "0NWRok7ZUEtf"
      }
    },
    {
      "cell_type": "code",
      "source": [
        "nums = [0, 1, 2, 3, 4]\n",
        "squares = [x ** 2 for x in nums]\n",
        "print(squares)"
      ],
      "outputs": [],
      "metadata": {
        "id": "lfEKzfMiUEth"
      },
      "execution_count": null
    },
    {
      "cell_type": "markdown",
      "source": [
        "List comprehensions can also contain conditions:"
      ],
      "metadata": {
        "id": "M41yUTtFUEti"
      }
    },
    {
      "cell_type": "code",
      "source": [
        "nums = [0, 1, 2, 3, 4]\n",
        "even_squares = [x ** 2 for x in nums if x % 2 == 0]\n",
        "print(even_squares)"
      ],
      "outputs": [],
      "metadata": {
        "id": "X6fGutktUEtk"
      },
      "execution_count": null
    },
    {
      "cell_type": "markdown",
      "source": [
        "####Dictionaries"
      ],
      "metadata": {
        "id": "sbrBzXJIUEtl"
      }
    },
    {
      "cell_type": "markdown",
      "source": [
        "A dictionary stores (key, value) pairs, similar to a `Map` in Java or an object in Javascript. You can use it like this:"
      ],
      "metadata": {
        "id": "EzxeV0GwUEtn"
      }
    },
    {
      "cell_type": "code",
      "source": [
        "d = {'cat': 'cute', 'dog': 'furry'}  # Create a new dictionary with some data\n",
        "print(d)\n",
        "print(d['cat'])       # Get an entry from a dictionary; prints \"cute\"\n",
        "print('cat' in d)     # Check if a dictionary has a given key; prints \"True\""
      ],
      "outputs": [],
      "metadata": {
        "id": "xDtsyc_RUEto"
      },
      "execution_count": null
    },
    {
      "cell_type": "code",
      "source": [
        "d['fish'] = 'wet'    # Set an entry in a dictionary\n",
        "print(d)      # Prints \"wet\""
      ],
      "outputs": [],
      "metadata": {
        "id": "Rw4tKYItUEtq"
      },
      "execution_count": null
    },
    {
      "cell_type": "code",
      "source": [
        "print(d['monkey'])  # KeyError: 'monkey' not a key of d"
      ],
      "outputs": [],
      "metadata": {
        "id": "vFtQceKGUEts"
      },
      "execution_count": null
    },
    {
      "cell_type": "markdown",
      "source": [
        "It is easy to iterate over the keys in a dictionary:"
      ],
      "metadata": {
        "id": "sCqb--OKUEty"
      }
    },
    {
      "cell_type": "code",
      "source": [
        "d = {'person': 2, 'cat': 4, 'spider': 8}\n",
        "for animal in d:\n",
        "    legs = d[animal]\n",
        "    print('A %s has %d legs' % (animal, legs))"
      ],
      "outputs": [],
      "metadata": {
        "id": "LKX28vNwUEt0"
      },
      "execution_count": null
    },
    {
      "cell_type": "markdown",
      "source": [
        "If you want access to keys and their corresponding values, use the iteritems method:"
      ],
      "metadata": {
        "id": "WlzOCmCNUEt1"
      }
    },
    {
      "cell_type": "code",
      "source": [
        "d = {'person': 2, 'cat': 4, 'spider': 8}\n",
        "for animal, legs in d.items():\n",
        "    print('A %s has %d legs' % (animal, legs))"
      ],
      "outputs": [],
      "metadata": {
        "id": "1jvbK3W8UEt3"
      },
      "execution_count": null
    },
    {
      "cell_type": "markdown",
      "source": [
        "Dictionary comprehensions: These are similar to list comprehensions, but allow you to easily construct dictionaries. For example:"
      ],
      "metadata": {
        "id": "x-ZbgMn6UEt4"
      }
    },
    {
      "cell_type": "code",
      "source": [
        "nums = [0, 1, 2, 3, 4]\n",
        "even_num_to_square = {x: x ** 2 for x in nums if x % 2 == 0}\n",
        "print(even_num_to_square)"
      ],
      "outputs": [],
      "metadata": {
        "id": "9EuPWaKYUEt5"
      },
      "execution_count": null
    },
    {
      "cell_type": "markdown",
      "source": [
        "####Sets"
      ],
      "metadata": {
        "id": "Wi5jfPQ6UEt7"
      }
    },
    {
      "cell_type": "markdown",
      "source": [
        "A set is an unordered collection of distinct elements. As a simple example, consider the following:"
      ],
      "metadata": {
        "id": "fwqnONlHUEt8"
      }
    },
    {
      "cell_type": "code",
      "source": [
        "animals = {'cat', 'dog'}\n",
        "print('cat' in animals)   # Check if an element is in a set; prints \"True\"\n",
        "print('fish' in animals)  # prints \"False\"\n"
      ],
      "outputs": [],
      "metadata": {
        "id": "YYdZge4oUEt-"
      },
      "execution_count": null
    },
    {
      "cell_type": "code",
      "source": [
        "animals.add('fish')      # Add an element to a set\n",
        "print('fish' in animals)\n",
        "print(len(animals))       # Number of elements in a set;"
      ],
      "outputs": [],
      "metadata": {
        "id": "ZIaV42wBUEt_"
      },
      "execution_count": null
    },
    {
      "cell_type": "code",
      "source": [
        "animals.add('cat')       # Adding an element that is already in the set does nothing\n",
        "print(len(animals))       \n",
        "animals.remove('cat')    # Remove an element from a set\n",
        "print(len(animals))       "
      ],
      "outputs": [],
      "metadata": {
        "id": "g-jSfpIzUEuB"
      },
      "execution_count": null
    },
    {
      "cell_type": "markdown",
      "source": [
        "_Loops_: Iterating over a set has the same syntax as iterating over a list; however since sets are unordered, you cannot make assumptions about the order in which you visit the elements of the set:"
      ],
      "metadata": {
        "id": "MgQK_M5vUEuD"
      }
    },
    {
      "cell_type": "code",
      "source": [
        "animals = {'cat', 'dog', 'fish'}\n",
        "for idx, animal in enumerate(animals):\n",
        "    print('#%d: %s' % (idx + 1, animal))\n",
        "# Prints \"#1: fish\", \"#2: dog\", \"#3: cat\""
      ],
      "outputs": [],
      "metadata": {
        "id": "Ky3ENFexUEuE"
      },
      "execution_count": null
    },
    {
      "cell_type": "markdown",
      "source": [
        "Set comprehensions: Like lists and dictionaries, we can easily construct sets using set comprehensions:"
      ],
      "metadata": {
        "id": "ev-NpaMOUEuF"
      }
    },
    {
      "cell_type": "code",
      "source": [
        "from math import sqrt\n",
        "print({int(sqrt(x)) for x in range(30)})"
      ],
      "outputs": [],
      "metadata": {
        "id": "QSJMTMRMUEuH"
      },
      "execution_count": null
    },
    {
      "cell_type": "markdown",
      "source": [
        "####Tuples"
      ],
      "metadata": {
        "id": "3CZAd7jCUEuJ"
      }
    },
    {
      "cell_type": "markdown",
      "source": [
        "A tuple is an (immutable) ordered list of values. A tuple is in many ways similar to a list; one of the most important differences is that tuples can be used as keys in dictionaries and as elements of sets, while lists cannot. Here is a trivial example:"
      ],
      "metadata": {
        "id": "oTfBGGcRUEuL"
      }
    },
    {
      "cell_type": "code",
      "source": [
        "d = {(1,2):\"a\",(5,6):\"b\"}  # Create a dictionary with tuple keys\n",
        "t = (5, 6)       # Create a tuple\n",
        "print(type(t))\n",
        "print(d[t])       \n",
        "print(d[(1, 2)])"
      ],
      "outputs": [],
      "metadata": {
        "id": "ORe0E5RjUEuO"
      },
      "execution_count": null
    },
    {
      "cell_type": "markdown",
      "source": [
        "###Functions"
      ],
      "metadata": {
        "id": "w_MqCcKzUEuQ"
      }
    },
    {
      "cell_type": "markdown",
      "source": [
        "Python functions are defined using the `def` keyword. For example:"
      ],
      "metadata": {
        "id": "vXZs1jkHUEuS"
      }
    },
    {
      "cell_type": "code",
      "source": [
        "def sign(x):\n",
        "    if x > 0:\n",
        "        return 'positive'\n",
        "    elif x < 0:\n",
        "        return 'negative'\n",
        "    else:\n",
        "        return 'zero'\n",
        "\n",
        "for x in [-1, 0, 1]:\n",
        "    print(sign(x))"
      ],
      "outputs": [],
      "metadata": {
        "id": "ug5X0ebYUEuU"
      },
      "execution_count": null
    },
    {
      "cell_type": "markdown",
      "source": [
        "We will often define functions to take optional keyword arguments, like this:"
      ],
      "metadata": {
        "id": "3leqj-daUEuV"
      }
    },
    {
      "cell_type": "code",
      "source": [
        "def hello(name, loud=False):\n",
        "    if loud:\n",
        "        print('HELLO, %s' % name.upper())\n",
        "    else:\n",
        "        print('Hello, %s!' % name)\n",
        "\n",
        "hello('Bob')\n",
        "hello('Fred', loud=True)"
      ],
      "outputs": [],
      "metadata": {
        "id": "wyA2s7c8UEuX"
      },
      "execution_count": null
    },
    {
      "cell_type": "markdown",
      "source": [
        "###Classes"
      ],
      "metadata": {
        "id": "BRC1Bx9YUEuY"
      }
    },
    {
      "cell_type": "markdown",
      "source": [
        "The syntax for defining classes in Python is straightforward:"
      ],
      "metadata": {
        "id": "9U8uFWuwUEua"
      }
    },
    {
      "cell_type": "code",
      "source": [
        "class Greeter:\n",
        "\n",
        "    # Constructor\n",
        "    def __init__(self, name):\n",
        "        self.name = name  # Create an instance variable\n",
        "\n",
        "    # Instance method\n",
        "    def greet(self, loud=False):\n",
        "        if loud:\n",
        "            print('HELLO, %s!' % self.name.upper())\n",
        "        else:\n",
        "            print('Hello, %s' % self.name)\n",
        "\n",
        "g = Greeter('Fred')  # Construct an instance of the Greeter class\n",
        "g.greet()            # Call an instance method; prints \"Hello, Fred\"\n",
        "g.greet(loud=True)   # Call an instance method; prints \"HELLO, FRED!\""
      ],
      "outputs": [],
      "metadata": {
        "id": "9vJtqCIZUEub"
      },
      "execution_count": null
    }
  ]
}
