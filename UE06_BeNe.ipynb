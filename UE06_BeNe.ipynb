{
  "nbformat": 4,
  "nbformat_minor": 0,
  "metadata": {
    "colab": {
      "provenance": []
    },
    "kernelspec": {
      "name": "python3",
      "display_name": "Python 3"
    },
    "language_info": {
      "name": "python"
    }
  },
  "cells": [
    {
      "cell_type": "markdown",
      "source": [
        "Course Instructor: Bernd Neumayr, JKU\n",
        "\n",
        "# UE06: SHACL Rules\n",
        "\n",
        "Complete the **10 tasks (1 point per task)** in the `5. SHACL Rules` sheet of `SemAI.jar` first and then transfer them to this notebook.\n",
        "\n",
        "For each task include:\n",
        "- A headline including the task number\n",
        "- The task description \n",
        "- The data graph and your solution (the shapes graph including the rules) in executable form\n",
        "- Print out out the the data graph including derived statements (after execution of the rules). "
      ],
      "metadata": {
        "id": "HnpijZy2D1Hd"
      }
    }
  ]
}