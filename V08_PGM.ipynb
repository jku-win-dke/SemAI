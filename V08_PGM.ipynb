{
  "nbformat": 4,
  "nbformat_minor": 0,
  "metadata": {
    "colab": {
      "provenance": []
    },
    "kernelspec": {
      "name": "python3",
      "display_name": "Python 3"
    },
    "language_info": {
      "name": "python"
    }
  },
  "cells": [
    {
      "cell_type": "markdown",
      "source": [
        "# Bayesian Networks in Python\n",
        "\n",
        "In this tutorial, we will explore how to use Bayesian networks in Python using the `pgmpy` library.\n",
        "\n",
        "See documentation at:\n",
        "- https://pgmpy.org/\n",
        "- https://pgmpy.org/models/bayesiannetwork.html\n",
        "- https://pgmpy.org/factors/discrete.html\n",
        "- https://pgmpy.org/exact_infer/ve.html"
      ],
      "metadata": {
        "id": "2G5_9hI8Oegc"
      }
    },
    {
      "cell_type": "markdown",
      "source": [
        "## Implementation in Python using `pgmpy`.\n",
        "\n",
        "Let's start by installing the `pgmpy` library."
      ],
      "metadata": {
        "id": "1tVLWr-_Tn4I"
      }
    },
    {
      "cell_type": "code",
      "execution_count": null,
      "metadata": {
        "id": "PJ_P6rynObjV",
        "colab": {
          "base_uri": "https://localhost:8080/"
        },
        "outputId": "26d4d73a-d822-4067-edf0-8dea1c0b1c87"
      },
      "outputs": [
        {
          "output_type": "stream",
          "name": "stdout",
          "text": [
            "\u001b[?25l     \u001b[90m━━━━━━━━━━━━━━━━━━━━━━━━━━━━━━━━━━━━━━━━\u001b[0m \u001b[32m0.0/1.9 MB\u001b[0m \u001b[31m?\u001b[0m eta \u001b[36m-:--:--\u001b[0m\r\u001b[2K     \u001b[91m━━━━━━━━━━━━━━━━━━━━━━━━━━━━━━━━━━━━━━━\u001b[0m\u001b[91m╸\u001b[0m \u001b[32m1.9/1.9 MB\u001b[0m \u001b[31m69.4 MB/s\u001b[0m eta \u001b[36m0:00:01\u001b[0m\r\u001b[2K     \u001b[90m━━━━━━━━━━━━━━━━━━━━━━━━━━━━━━━━━━━━━━━━\u001b[0m \u001b[32m1.9/1.9 MB\u001b[0m \u001b[31m31.8 MB/s\u001b[0m eta \u001b[36m0:00:00\u001b[0m\n",
            "\u001b[?25h"
          ]
        }
      ],
      "source": [
        "!pip install -q pgmpy networkx matplotlib plotly daft"
      ]
    },
    {
      "cell_type": "markdown",
      "source": [
        "Import the required libraries."
      ],
      "metadata": {
        "id": "k12GLfW8O1Iz"
      }
    },
    {
      "cell_type": "code",
      "source": [
        "import numpy as np\n",
        "from pgmpy.models import BayesianNetwork\n",
        "from pgmpy.factors.discrete import TabularCPD\n",
        "import networkx as nx\n",
        "import matplotlib.pyplot as plt"
      ],
      "metadata": {
        "id": "BP8gltvIO7mU"
      },
      "execution_count": null,
      "outputs": []
    },
    {
      "cell_type": "markdown",
      "source": [
        "Create the Bayesian network:"
      ],
      "metadata": {
        "id": "WZ9fWpP8O7OD"
      }
    },
    {
      "cell_type": "code",
      "source": [
        "# Define the network structure\n",
        "model = BayesianNetwork([('Infected', 'Test')])\n",
        "\n",
        "statenames = {'Infected': ['no', 'yes'],\n",
        "              'Test': ['negative', 'positive']}\n",
        "\n",
        "# Define the probability distribution for 'Infected' (P(Infected))\n",
        "cpd_infected = TabularCPD(variable='Infected', variable_card=2,\n",
        "                          state_names=statenames,\n",
        "                          values=[[0.99], [0.01]])\n",
        "\n",
        "# Define the conditional probability distribution for 'Test' (P(Test | Infected))\n",
        "cpd_test = TabularCPD(variable='Test', variable_card=2,\n",
        "                      state_names=statenames,\n",
        "                      evidence=['Infected'], evidence_card=[2],\n",
        "                      values=[[0.9, 0.05],\n",
        "                              [0.1, 0.95]])\n",
        "\n",
        "# Add the probability distributions to the model\n",
        "model.add_cpds(cpd_infected, cpd_test)\n",
        "model.to_daft(node_pos={\"Infected\": (0, 0), \"Test\": (2, 0)}).render()\n",
        "\n",
        "print(cpd_infected)\n",
        "print(cpd_test)\n"
      ],
      "metadata": {
        "id": "JhDmRSpMO_-d",
        "colab": {
          "base_uri": "https://localhost:8080/",
          "height": 304
        },
        "outputId": "2c528246-64da-4d5e-d546-3bdc2d59a262"
      },
      "execution_count": null,
      "outputs": [
        {
          "output_type": "stream",
          "name": "stdout",
          "text": [
            "+---------------+------+\n",
            "| Infected(no)  | 0.99 |\n",
            "+---------------+------+\n",
            "| Infected(yes) | 0.01 |\n",
            "+---------------+------+\n",
            "+----------------+--------------+---------------+\n",
            "| Infected       | Infected(no) | Infected(yes) |\n",
            "+----------------+--------------+---------------+\n",
            "| Test(negative) | 0.9          | 0.05          |\n",
            "+----------------+--------------+---------------+\n",
            "| Test(positive) | 0.1          | 0.95          |\n",
            "+----------------+--------------+---------------+\n"
          ]
        },
        {
          "output_type": "display_data",
          "data": {
            "text/plain": [
              "<Figure size 212.598x55.1181 with 1 Axes>"
            ],
            "image/png": "[encoded data removed]"
          },
          "metadata": {}
        }
      ]
    },
    {
      "cell_type": "markdown",
      "source": [
        "With our Bayesian network set up, we can now compute the probability that Peter is infected given his positive test result. "
      ],
      "metadata": {
        "id": "_F0D2TpmPESr"
      }
    },
    {
      "cell_type": "code",
      "source": [
        "# Perform inference\n",
        "from pgmpy.inference import VariableElimination\n",
        "inference = VariableElimination(model)\n",
        "evidence={'Test':'positive'}\n",
        "result = inference.query(variables=['Infected'], evidence=evidence)\n",
        "print(evidence)\n",
        "print(result)\n",
        "\n",
        "print(inference.query(variables=['Test']))"
      ],
      "metadata": {
        "colab": {
          "base_uri": "https://localhost:8080/"
        },
        "id": "YMcRfaGiPGSK",
        "outputId": "4c9ff029-ae85-49d8-d61b-ae2693ebd7fe"
      },
      "execution_count": null,
      "outputs": [
        {
          "output_type": "stream",
          "name": "stdout",
          "text": [
            "{'Test': 'positive'}\n",
            "+---------------+-----------------+\n",
            "| Infected      |   phi(Infected) |\n",
            "+===============+=================+\n",
            "| Infected(no)  |          0.9124 |\n",
            "+---------------+-----------------+\n",
            "| Infected(yes) |          0.0876 |\n",
            "+---------------+-----------------+\n",
            "+----------------+-------------+\n",
            "| Test           |   phi(Test) |\n",
            "+================+=============+\n",
            "| Test(negative) |      0.8915 |\n",
            "+----------------+-------------+\n",
            "| Test(positive) |      0.1085 |\n",
            "+----------------+-------------+\n"
          ]
        }
      ]
    },
    {
      "cell_type": "markdown",
      "source": [
        "## Another Example (Alarm)\n",
        "\n"
      ],
      "metadata": {
        "id": "61I7g3xFJ0qP"
      }
    },
    {
      "cell_type": "code",
      "source": [
        "model = BayesianNetwork([\n",
        "    ('Burglary', 'Alarm'), \n",
        "    ('Earthquake', 'Alarm'), \n",
        "    (\"Alarm\", \"JohnCalls\"), \n",
        "    (\"Alarm\",\"MaryCalls\")])\n",
        "\n",
        "model.to_daft().render()\n",
        "\n",
        "model.add_cpds(\n",
        "  TabularCPD(\n",
        "      variable='Burglary', \n",
        "      variable_card=2,\n",
        "      values=[[0.999], [0.001]]),\n",
        "  TabularCPD(\n",
        "      variable='Earthquake', \n",
        "      variable_card=2,\n",
        "      values=[[0.998], [0.002]]),\n",
        "  TabularCPD(\n",
        "      variable='Alarm', \n",
        "      variable_card=2,\n",
        "      evidence=['Burglary', 'Earthquake'], \n",
        "      evidence_card=[2,2],\n",
        "      values = [[0.999, 0.71, 0.06, 0.05],\n",
        "                [0.001, 0.29, 0.94, 0.95]]),\n",
        "  TabularCPD(\n",
        "      variable='JohnCalls', \n",
        "      variable_card=2,\n",
        "      evidence=['Alarm'], evidence_card=[2],\n",
        "      values = [[0.95, 0.1],\n",
        "                [0.05, 0.9]]),\n",
        "  TabularCPD(\n",
        "      variable='MaryCalls', \n",
        "      variable_card=2,\n",
        "      evidence=['Alarm'], \n",
        "      evidence_card=[2],\n",
        "      values = [[0.99, 0.3],\n",
        "                [0.01, 0.7]])\n",
        ")\n",
        "\n",
        "model.get_cpds()"
      ],
      "metadata": {
        "colab": {
          "base_uri": "https://localhost:8080/",
          "height": 911
        },
        "id": "es4GIIY_J5Mo",
        "outputId": "35d3de05-34a0-4e78-955a-e1bd708f7c5c"
      },
      "execution_count": null,
      "outputs": [
        {
          "output_type": "stream",
          "name": "stdout",
          "text": [
            "+-------------+-------+\n",
            "| Burglary(0) | 0.999 |\n",
            "+-------------+-------+\n",
            "| Burglary(1) | 0.001 |\n",
            "+-------------+-------+\n",
            "+---------------+-------+\n",
            "| Earthquake(0) | 0.998 |\n",
            "+---------------+-------+\n",
            "| Earthquake(1) | 0.002 |\n",
            "+---------------+-------+\n",
            "+------------+---------------+---------------+---------------+---------------+\n",
            "| Burglary   | Burglary(0)   | Burglary(0)   | Burglary(1)   | Burglary(1)   |\n",
            "+------------+---------------+---------------+---------------+---------------+\n",
            "| Earthquake | Earthquake(0) | Earthquake(1) | Earthquake(0) | Earthquake(1) |\n",
            "+------------+---------------+---------------+---------------+---------------+\n",
            "| Alarm(0)   | 0.999         | 0.71          | 0.06          | 0.05          |\n",
            "+------------+---------------+---------------+---------------+---------------+\n",
            "| Alarm(1)   | 0.001         | 0.29          | 0.94          | 0.95          |\n",
            "+------------+---------------+---------------+---------------+---------------+\n",
            "+--------------+----------+----------+\n",
            "| Alarm        | Alarm(0) | Alarm(1) |\n",
            "+--------------+----------+----------+\n",
            "| JohnCalls(0) | 0.95     | 0.1      |\n",
            "+--------------+----------+----------+\n",
            "| JohnCalls(1) | 0.05     | 0.9      |\n",
            "+--------------+----------+----------+\n",
            "+--------------+----------+----------+\n",
            "| Alarm        | Alarm(0) | Alarm(1) |\n",
            "+--------------+----------+----------+\n",
            "| MaryCalls(0) | 0.99     | 0.3      |\n",
            "+--------------+----------+----------+\n",
            "| MaryCalls(1) | 0.01     | 0.7      |\n",
            "+--------------+----------+----------+\n"
          ]
        },
        {
          "output_type": "execute_result",
          "data": {
            "text/plain": [
              "[<TabularCPD representing P(Burglary:2) at 0x7f041ab557e0>,\n",
              " <TabularCPD representing P(Earthquake:2) at 0x7f041ab57f70>,\n",
              " <TabularCPD representing P(Alarm:2 | Burglary:2, Earthquake:2) at 0x7f041ab57d30>,\n",
              " <TabularCPD representing P(JohnCalls:2 | Alarm:2) at 0x7f041ab82800>,\n",
              " <TabularCPD representing P(MaryCalls:2 | Alarm:2) at 0x7f041ab82830>]"
            ]
          },
          "metadata": {},
          "execution_count": 3
        },
        {
          "output_type": "display_data",
          "data": {
            "text/plain": [
              "<Figure size 197.56x204.891 with 1 Axes>"
            ],
            "image/png": "[encoded data removed]"
          },
          "metadata": {}
        }
      ]
    },
    {
      "cell_type": "code",
      "source": [
        "inference = VariableElimination(model)\n",
        "evidence = {'MaryCalls':1}\n",
        "result = inference.query(variables=['Burglary'], evidence=evidence)\n",
        "print(\"Evidence:\",evidence)\n",
        "print(result)"
      ],
      "metadata": {
        "colab": {
          "base_uri": "https://localhost:8080/"
        },
        "id": "X4-E6pHwofZP",
        "outputId": "8af749c3-8acb-4500-91e4-e88ecdcdd8d7"
      },
      "execution_count": null,
      "outputs": [
        {
          "output_type": "stream",
          "name": "stdout",
          "text": [
            "Evidence: {'MaryCalls': 1}\n",
            "+-------------+-----------------+\n",
            "| Burglary    |   phi(Burglary) |\n",
            "+=============+=================+\n",
            "| Burglary(0) |          0.9439 |\n",
            "+-------------+-----------------+\n",
            "| Burglary(1) |          0.0561 |\n",
            "+-------------+-----------------+\n"
          ]
        }
      ]
    }
  ]
}